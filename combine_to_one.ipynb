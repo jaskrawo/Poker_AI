{
 "cells": [
  {
   "cell_type": "code",
   "execution_count": 7,
   "id": "a4a1aaac",
   "metadata": {},
   "outputs": [],
   "source": [
    "import pandas as pd\n",
    "import numpy as np\n",
    "import glob\n",
    "import json"
   ]
  },
  {
   "cell_type": "code",
   "execution_count": 13,
   "id": "6c9c8f1a",
   "metadata": {},
   "outputs": [],
   "source": [
    "# Define path to JSON files\n",
    "file_pattern = 'parsed_dir/*.json'\n",
    "json_files = glob.glob(file_pattern)\n",
    "\n",
    "# Read all JSON files into a list of DataFrames\n",
    "dfs = []\n",
    "for file in json_files:\n",
    "\n",
    "    data_series = pd.read_json(file, typ='series')\n",
    "    df = pd.DataFrame([data_series])\n",
    "    dfs.append(df)\n",
    "\n",
    "# Cobmine all DataFrames into one\n",
    "combined_df = pd.concat(dfs, ignore_index=True)"
   ]
  },
  {
   "cell_type": "code",
   "execution_count": 11,
   "id": "8ce4ffa9",
   "metadata": {},
   "outputs": [
    {
     "name": "stdout",
     "output_type": "stream",
     "text": [
      "   num_players player_id  position  hole_card_1_rank  hole_card_2_rank  \\\n",
      "0            6  Pluribus         4                 3                 5   \n",
      "\n",
      "   is_pair  is_suited  high_card  card_gap  net_gain_bb  \n",
      "0    False       True          5         2          0.0  \n"
     ]
    }
   ],
   "source": [
    "file = 'parsed_dir/Pluribus_118_157.json'\n",
    "data_series = pd.read_json(file, typ='series')\n",
    "df = pd.DataFrame([data_series])\n",
    "print(df.head())\n",
    "\n"
   ]
  },
  {
   "cell_type": "code",
   "execution_count": 17,
   "id": "417f7980",
   "metadata": {},
   "outputs": [],
   "source": [
    "#print(combined_df.describe())\n",
    "structured_array = combined_df.to_records(index=False)\n",
    "np.save('numpy_combined/structured_data.npy', structured_array)"
   ]
  },
  {
   "cell_type": "code",
   "execution_count": null,
   "id": "7623e049",
   "metadata": {},
   "outputs": [],
   "source": [
    "data = np.load('numpy_combined/structured_data.npy', allow_pickle=True)\n",
    "df = pd.DataFrame(data)"
   ]
  },
  {
   "cell_type": "code",
   "execution_count": 27,
   "id": "fc31e6e7",
   "metadata": {},
   "outputs": [
    {
     "data": {
      "text/plain": [
       "<bound method NDFrame.head of        num_players player_id  position  hole_card_1_rank  hole_card_2_rank  \\\n",
       "0                6      Bill         4                 9                11   \n",
       "1                6  Pluribus         3                 5                12   \n",
       "2                6  MrOrange         5                11                 3   \n",
       "3                6  MrOrange         2                 5                11   \n",
       "4                6    MrBlue         3                10                 3   \n",
       "...            ...       ...       ...               ...               ...   \n",
       "60001            6      Bill         3                 2                 8   \n",
       "60002            6      Bill         3                14                 6   \n",
       "60003            6  Pluribus         2                 8                10   \n",
       "60004            6  MrOrange         4                13                 8   \n",
       "60005            6    MrPink         5                 4                 6   \n",
       "\n",
       "       is_pair  is_suited  high_card  card_gap  net_gain_bb  \n",
       "0        False      False         11         2          0.0  \n",
       "1        False      False         12         7          0.0  \n",
       "2        False       True         11         8         -3.0  \n",
       "3        False      False         11         6          0.0  \n",
       "4        False      False         10         7          0.0  \n",
       "...        ...        ...        ...       ...          ...  \n",
       "60001    False      False          8         6          0.0  \n",
       "60002    False      False         14         8          0.0  \n",
       "60003    False      False         10         2          0.0  \n",
       "60004    False      False         13         5          0.0  \n",
       "60005    False      False          6         2          0.0  \n",
       "\n",
       "[60006 rows x 10 columns]>"
      ]
     },
     "execution_count": 27,
     "metadata": {},
     "output_type": "execute_result"
    }
   ],
   "source": [
    "df.head"
   ]
  }
 ],
 "metadata": {
  "kernelspec": {
   "display_name": "myenv",
   "language": "python",
   "name": "python3"
  },
  "language_info": {
   "codemirror_mode": {
    "name": "ipython",
    "version": 3
   },
   "file_extension": ".py",
   "mimetype": "text/x-python",
   "name": "python",
   "nbconvert_exporter": "python",
   "pygments_lexer": "ipython3",
   "version": "3.12.7"
  }
 },
 "nbformat": 4,
 "nbformat_minor": 5
}
